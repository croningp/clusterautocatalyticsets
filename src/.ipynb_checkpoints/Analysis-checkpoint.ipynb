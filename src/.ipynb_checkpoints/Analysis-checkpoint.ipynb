{
 "cells": [
  {
   "cell_type": "code",
   "execution_count": 2,
   "metadata": {},
   "outputs": [
    {
     "name": "stderr",
     "output_type": "stream",
     "text": [
      "\n",
      "Attaching package: 'dplyr'\n",
      "\n",
      "The following objects are masked from 'package:stats':\n",
      "\n",
      "    filter, lag\n",
      "\n",
      "The following objects are masked from 'package:base':\n",
      "\n",
      "    intersect, setdiff, setequal, union\n",
      "\n"
     ]
    }
   ],
   "source": [
    "library(\"tidyr\")\n",
    "library(\"ggplot2\")\n",
    "library(\"dplyr\")\n",
    "# wheel_example_fname = \"../data/MoBlue_timeseries/32091307852472121783sjgbfSB.csv\"\n",
    "# wheel.df <- read.csv(wheel_example_fname)\n",
    "# masses  = scan(\"masses.txt\")\n",
    "# wheel.df$mass <- masses\n",
    "# ball_example_fname = \"../data/MoBlue_timeseries/100258850938785994230ABAyHzu.csv\"\n",
    "# ball.df <- read.csv(ball_example_fname)\n",
    "# ball.df$mass <- masses"
   ]
  },
  {
   "cell_type": "code",
   "execution_count": 34,
   "metadata": {},
   "outputs": [],
   "source": [
    "read_and_label_df <- function(fname, num.time = 100, start = 3){\n",
    "    my.df<- read.csv(fname, stringsAsFactors = FALSE)\n",
    "    masses  = scan(\"masses.txt\")\n",
    "    my.df$mass <- masses\n",
    "    new_names <- as.numeric(unlist(strsplit(names(my.df)[start:(start+num.time-1)],\"X\"))[seq(2,2*num.time,2)])\n",
    "    names(my.df)[start:(start+num.time-1)] <- new_names\n",
    "    return(my.df)\n",
    "}\n",
    "\n",
    "make_ts_df <- function(fname){\n",
    "    my.df <- read_and_label_df(fname)\n",
    "    my.df$label = \"NULL\"\n",
    "    \n",
    "    my.df[which(my.df$molecule == \"Mo1\"),]$label = \"Mo1\"\n",
    "    my.df[which(my.df$molecule == \"Mo2\"),]$label = \"Mo2\"\n",
    "    my.df[which(my.df$molecule == \"edgeMo2\"),]$label = \"edgeMo2\"\n",
    "    my.df[which(my.df$molecule == \"Mo6\"),]$label = \"Mo6\"\n",
    "    my.df[which(my.df$molecule == \"Mo36\"),]$label = \"Mo36\"\n",
    "    my.df[which(my.df$molecule == \"(Mo6)12_(edgeMo2)30\"),]$label = \"Ball\"\n",
    "    my.df[which(my.df$molecule == \"(Mo6)14_(Mo2)28_(Mo1)14\"),]$label = \"Wheel\"\n",
    "    \n",
    "    mo6_intermediates = scan(\"mo6_intermediates.txt\", character())\n",
    "    my.df[which(my.df$molecule %in% mo6_intermediates),]$label <- \"Mo6 Intermediates\"\n",
    "    mo36_intermediates = scan(\"mo36_intermediates.txt\",character())\n",
    "    my.df[which(my.df$molecule %in% mo36_intermediates),]$label <- \"Mo36 Intermediates\"\n",
    "    ball_intermediates = scan(\"ball_intermediates.txt\",character())\n",
    "    my.df[which(my.df$molecule %in% ball_intermediates),]$label <- \"Ball Intermediates\"\n",
    "    wheel_intermediates = scan(\"wheel_intermediates.txt\", character())\n",
    "    my.df[which(my.df$molecule %in% wheel_intermediates),]$label <- \"Wheel Intermediates\"\n",
    "    ts.df <- gather(my.df, time, abundance, -molecule, -mID, -mass, -label)\n",
    "    ts.df$mass_raw = ts.df$mass*ts.df$abundance\n",
    "    times <- unique(ts.df$time)\n",
    "    for (t in times){\n",
    "        total_mass = sum(ts.df[which(ts.df$time == t),])\n",
    "        ts.df$mass_frac = ts.df$mass_raw/total_mass\n",
    "    }\n",
    "    ts.df$time <- as.numeric(ts.df$time)\n",
    "    return(ts.df)\n",
    "}\n",
    "\n",
    "\n"
   ]
  },
  {
   "cell_type": "code",
   "execution_count": null,
   "metadata": {},
   "outputs": [],
   "source": []
  },
  {
   "cell_type": "raw",
   "metadata": {},
   "source": [
    "wheel.ts  <- make_ts_df(wheel.df)\n",
    "wheel.agg <- aggregate(wheel.ts$mass_frac,\n",
    "               list(time = wheel.ts$time, label = wheel.ts$label),\n",
    "               sum)\n",
    "head(wheel.agg)\n",
    "\n",
    "ball.ts  <- make_ts_df(ball.df)\n",
    "ball.agg <- aggregate(ball.ts$mass_frac,\n",
    "               list(time = ball.ts$time, label = ball.ts$label),\n",
    "               sum)\n",
    "head(ball.agg)\n",
    "\n",
    "wheel.main.compounds <- c(\"Mo1\", \"Mo2\", \"Mo6\", \"Mo36\", \"Wheel\")\n",
    "wheel.main.ts <- wheel.agg[which(wheel.agg$label %in% wheel.main.compounds),]\n",
    "p.wheel.main <- ggplot(wheel.main.ts) + geom_point(aes(x = time, y = x, color = label)) + \n",
    "    theme_classic() + \n",
    "    scale_y_log10() + \n",
    "    scale_x_continuous(breaks = seq(0, 10, by = 1)) + \n",
    "    labs(y = \"Fraction of Molybdenum\", x = \"Time\", color = \" \", title = \"Wheel Formation Example\") +\n",
    "    theme(plot.title = element_text(hjust = 0.5)) + \n",
    "    theme(text = element_text(size=16))+\n",
    "    theme(legend.position=\"bottom\")\n",
    "    "
   ]
  },
  {
   "cell_type": "code",
   "execution_count": 180,
   "metadata": {},
   "outputs": [
    {
     "name": "stderr",
     "output_type": "stream",
     "text": [
      "Saving 6.67 x 6.67 in image\n",
      "Warning message:\n",
      "\"Transformation introduced infinite values in continuous y-axis\""
     ]
    }
   ],
   "source": [
    "ggsave(\"WheelFormation.jpeg\",p.wheel.main)"
   ]
  },
  {
   "cell_type": "code",
   "execution_count": 179,
   "metadata": {},
   "outputs": [
    {
     "data": {
      "text/html": [
       "<table>\n",
       "<thead><tr><th></th><th scope=col>time</th><th scope=col>label</th><th scope=col>x</th></tr></thead>\n",
       "<tbody>\n",
       "\t<tr><th scope=row>601</th><td>0.0               </td><td>Mo36 Intermediates</td><td>0.0000000         </td></tr>\n",
       "\t<tr><th scope=row>602</th><td>0.1               </td><td>Mo36 Intermediates</td><td>0.0046478         </td></tr>\n",
       "\t<tr><th scope=row>603</th><td>0.2               </td><td>Mo36 Intermediates</td><td>0.0049115         </td></tr>\n",
       "\t<tr><th scope=row>604</th><td>0.3               </td><td>Mo36 Intermediates</td><td>0.0046115         </td></tr>\n",
       "\t<tr><th scope=row>605</th><td>0.4               </td><td>Mo36 Intermediates</td><td>0.0041702         </td></tr>\n",
       "\t<tr><th scope=row>606</th><td>0.5               </td><td>Mo36 Intermediates</td><td>0.0039408         </td></tr>\n",
       "</tbody>\n",
       "</table>\n"
      ],
      "text/latex": [
       "\\begin{tabular}{r|lll}\n",
       "  & time & label & x\\\\\n",
       "\\hline\n",
       "\t601 & 0.0                & Mo36 Intermediates & 0.0000000         \\\\\n",
       "\t602 & 0.1                & Mo36 Intermediates & 0.0046478         \\\\\n",
       "\t603 & 0.2                & Mo36 Intermediates & 0.0049115         \\\\\n",
       "\t604 & 0.3                & Mo36 Intermediates & 0.0046115         \\\\\n",
       "\t605 & 0.4                & Mo36 Intermediates & 0.0041702         \\\\\n",
       "\t606 & 0.5                & Mo36 Intermediates & 0.0039408         \\\\\n",
       "\\end{tabular}\n"
      ],
      "text/markdown": [
       "\n",
       "| <!--/--> | time | label | x | \n",
       "|---|---|---|---|---|---|\n",
       "| 601 | 0.0                | Mo36 Intermediates | 0.0000000          | \n",
       "| 602 | 0.1                | Mo36 Intermediates | 0.0046478          | \n",
       "| 603 | 0.2                | Mo36 Intermediates | 0.0049115          | \n",
       "| 604 | 0.3                | Mo36 Intermediates | 0.0046115          | \n",
       "| 605 | 0.4                | Mo36 Intermediates | 0.0041702          | \n",
       "| 606 | 0.5                | Mo36 Intermediates | 0.0039408          | \n",
       "\n",
       "\n"
      ],
      "text/plain": [
       "    time label              x        \n",
       "601 0.0  Mo36 Intermediates 0.0000000\n",
       "602 0.1  Mo36 Intermediates 0.0046478\n",
       "603 0.2  Mo36 Intermediates 0.0049115\n",
       "604 0.3  Mo36 Intermediates 0.0046115\n",
       "605 0.4  Mo36 Intermediates 0.0041702\n",
       "606 0.5  Mo36 Intermediates 0.0039408"
      ]
     },
     "metadata": {},
     "output_type": "display_data"
    },
    {
     "name": "stderr",
     "output_type": "stream",
     "text": [
      "Saving 6.67 x 6.67 in image\n",
      "Warning message:\n",
      "\"Transformation introduced infinite values in continuous y-axis\""
     ]
    }
   ],
   "source": [
    "wheel.intermediates.compounds <- c(\"Mo6 Intermediates\", \"Mo36 Intermediates\", \"Wheel Intermediates\")\n",
    "wheel.intermediate.ts <- wheel.agg[which(wheel.agg$label %in% wheel.intermediates.compounds),]\n",
    "\n",
    "head(wheel.intermediate.ts)\n",
    "p.wheel.intermediate <- ggplot(wheel.intermediate.ts) + geom_point(aes(x = time, y = x, color = label)) + \n",
    "     theme_classic() + \n",
    "     scale_y_log10() + \n",
    "     scale_x_continuous(breaks = seq(0, 10, by = 1)) + \n",
    "     labs(y = \"Fraction of Molybdenum\", x = \"Time\", color = \" \", title = \"Wheel Intermediates Example\") +\n",
    "     theme(plot.title = element_text(hjust = 0.5)) + \n",
    "     theme(text = element_text(size=16))+\n",
    "    theme(legend.position=\"bottom\")\n",
    "ggsave(\"WheelIntermediates.jpeg\",p.wheel.intermediate)"
   ]
  },
  {
   "cell_type": "code",
   "execution_count": 177,
   "metadata": {},
   "outputs": [
    {
     "name": "stderr",
     "output_type": "stream",
     "text": [
      "Saving 6.67 x 6.67 in image\n",
      "Warning message:\n",
      "\"Transformation introduced infinite values in continuous y-axis\""
     ]
    }
   ],
   "source": [
    "ball.main.compounds <- c(\"Mo1\", \"edgeMo2\", \"Mo6\", \"Mo36\", \"Ball\")\n",
    "ball.main.ts <- ball.agg[which(ball.agg$label %in% ball.main.compounds),]\n",
    "p.ball.main <- ggplot(ball.main.ts) + geom_point(aes(x = time, y = x, color = label)) + \n",
    "    theme_classic() + \n",
    "    scale_y_log10() + \n",
    "    scale_x_continuous(breaks = seq(0, 10, by = 1)) + \n",
    "    labs(y = \"Fraction of Molybdenum\", x = \"Time\", color = \" \", title = \"Ball Formation Example\") +\n",
    "    theme(plot.title = element_text(hjust = 0.5)) + \n",
    "    theme(text = element_text(size=16))+\n",
    "    theme(legend.position=\"bottom\")\n",
    "ggsave(\"BallFormation.jpeg\",p.ball.main)"
   ]
  },
  {
   "cell_type": "code",
   "execution_count": 172,
   "metadata": {},
   "outputs": [
    {
     "name": "stderr",
     "output_type": "stream",
     "text": [
      "Warning message:\n",
      "\"Transformation introduced infinite values in continuous y-axis\""
     ]
    },
    {
     "data": {},
     "metadata": {},
     "output_type": "display_data"
    },
    {
     "data": {
      "image/png": "[encoded data removed]",
      "text/plain": [
       "plot without title"
      ]
     },
     "metadata": {},
     "output_type": "display_data"
    }
   ],
   "source": [
    "p.ball.main"
   ]
  },
  {
   "cell_type": "code",
   "execution_count": 176,
   "metadata": {},
   "outputs": [
    {
     "name": "stderr",
     "output_type": "stream",
     "text": [
      "Saving 6.67 x 6.67 in image\n",
      "Warning message:\n",
      "\"Transformation introduced infinite values in continuous y-axis\""
     ]
    }
   ],
   "source": [
    "ball.intermediates.compounds <- c(\"Mo6 intermediates\", \"Mo36 Intermediates\", \"Ball Intermediates\")\n",
    "ball.intermediates.ts <- ball.agg[which(ball.agg$label %in% ball.intermediates.compounds),]\n",
    "p.ball.intermediates <- ggplot(ball.intermediates.ts) + geom_point(aes(x = time, y = x, color = label)) + \n",
    "    theme_classic() + \n",
    "    scale_y_log10() + \n",
    "    scale_x_continuous(breaks = seq(0, 10, by = 1)) + \n",
    "    labs(y = \"Fraction of Molybdenum\", x = \"Time\", color = \" \", title = \"Ball intermediates Example\") +\n",
    "    theme(plot.title = element_text(hjust = 0.5)) + \n",
    "    theme(text = element_text(size=16))+\n",
    "    theme(legend.position=\"bottom\")\n",
    "ggsave(\"BallIntermediates.jpeg\",p.ball.intermediates)"
   ]
  },
  {
   "cell_type": "code",
   "execution_count": 174,
   "metadata": {},
   "outputs": [
    {
     "name": "stderr",
     "output_type": "stream",
     "text": [
      "Warning message:\n",
      "\"Transformation introduced infinite values in continuous y-axis\""
     ]
    },
    {
     "data": {},
     "metadata": {},
     "output_type": "display_data"
    },
    {
     "data": {
      "image/png": "[encoded data removed]",
      "text/plain": [
       "plot without title"
      ]
     },
     "metadata": {},
     "output_type": "display_data"
    }
   ],
   "source": [
    "p.ball.intermediates"
   ]
  },
  {
   "cell_type": "code",
   "execution_count": 60,
   "metadata": {},
   "outputs": [],
   "source": [
    "params_df  = read.csv(\"../data/MoBlue_Run_Parameters.csv\", stringsAsFactors  = FALSE)"
   ]
  },
  {
   "cell_type": "code",
   "execution_count": 61,
   "metadata": {},
   "outputs": [],
   "source": [
    "params_df = params_df[complete.cases(params_df),]"
   ]
  },
  {
   "cell_type": "code",
   "execution_count": 27,
   "metadata": {},
   "outputs": [],
   "source": [
    "p <- ggplot(params_df) + geom_histogram(aes(x= dimerization_ratio)) + scale_x_log10()"
   ]
  },
  {
   "cell_type": "code",
   "execution_count": 107,
   "metadata": {},
   "outputs": [],
   "source": [
    "get_ball_frac <- function(fname,time = 99.0 ){\n",
    "    \n",
    "    ts.df <- make_ts_df(fname)\n",
    "    ball.df <- ts.df[which(ts.df$label == \"Ball\"),]\n",
    "    ball.frac  <- ball.df[which(round(ball.df$time,digits = 1) == time),]$mass_frac\n",
    "    return(ball.frac)\n",
    "}\n",
    "\n",
    "get_wheel_frac <- function(fname){\n",
    "     time = 99.0\n",
    "    ts.df <- make_ts_df(fname)\n",
    "    wheel.df <- ts.df[which(ts.df$label == \"Wheel\"),]\n",
    "    wheel.frac  <- wheel.df[which(round(wheel.df$time,digits = 1) == time),]$mass_frac\n",
    "    return(wheel.frac)\n",
    "}"
   ]
  },
  {
   "cell_type": "code",
   "execution_count": 72,
   "metadata": {},
   "outputs": [],
   "source": [
    "params_df$save_name <- as.character(params_df$save_name)"
   ]
  },
  {
   "cell_type": "code",
   "execution_count": 88,
   "metadata": {},
   "outputs": [
    {
     "name": "stdout",
     "output_type": "stream",
     "text": [
      "  mID molecule mass             label time abundance mass_raw mass_frac\n",
      "1   1 Mo36*Mo1   37 Mo6 Intermediates    0         0        0 0.0000000\n",
      "2   2      Mo1    1               Mo1    0     99998    99998 0.0099998\n",
      "3   3 Mo36*Mo2   38 Mo6 Intermediates    0         0        0 0.0000000\n",
      "4   4      Mo2    2               Mo2    0         1        2 0.0000002\n",
      "5   5 Mo36*Mo3   39 Mo6 Intermediates    0         0        0 0.0000000\n",
      "6   6      Mo3    3 Mo6 Intermediates    0         0        0 0.0000000\n",
      "[1] 0\n"
     ]
    }
   ],
   "source": [
    "trial_out = get_ball_frac(params_df$save_name[120])"
   ]
  },
  {
   "cell_type": "code",
   "execution_count": 78,
   "metadata": {},
   "outputs": [
    {
     "data": {
      "text/html": [
       "<table>\n",
       "<thead><tr><th scope=col>T</th><th scope=col>volume</th><th scope=col>k_f</th><th scope=col>stable_backward</th><th scope=col>R</th><th scope=col>mo36_enhance</th><th scope=col>wheel_enhancement_multiplier</th><th scope=col>ball_enhance</th><th scope=col>dimerization_ratio</th><th scope=col>save_name</th></tr></thead>\n",
       "<tbody>\n",
       "\t<tr><td>300                                                       </td><td>1                                                         </td><td>0.01                                                      </td><td>1                                                         </td><td>8.31446                                                   </td><td>1                                                         </td><td>1000                                                      </td><td>1000                                                      </td><td>4.329881e+00                                              </td><td>../data/MoBlue_timeseries/16880651504391989741Ar42Rpl6.csv</td></tr>\n",
       "\t<tr><td>300                                                       </td><td>1                                                         </td><td>0.01                                                      </td><td>1                                                         </td><td>8.31446                                                   </td><td>1                                                         </td><td>1000                                                      </td><td>1000                                                      </td><td>5.847465e+00                                              </td><td>../data/MoBlue_timeseries/2967497634502052968P7md8osu.csv </td></tr>\n",
       "\t<tr><td>300                                                       </td><td>1                                                         </td><td>0.01                                                      </td><td>1                                                         </td><td>8.31446                                                   </td><td>1                                                         </td><td>1000                                                      </td><td>1000                                                      </td><td>3.704234e-01                                              </td><td>../data/MoBlue_timeseries/18387456924582107222fp88bEDb.csv</td></tr>\n",
       "\t<tr><td>300                                                       </td><td>1                                                         </td><td>0.01                                                      </td><td>1                                                         </td><td>8.31446                                                   </td><td>1                                                         </td><td>1000                                                      </td><td>1000                                                      </td><td>3.778325e-01                                              </td><td>../data/MoBlue_timeseries/17804707699707572981DAjXPTH5.csv</td></tr>\n",
       "\t<tr><td>300                                                       </td><td>1                                                         </td><td>0.01                                                      </td><td>1                                                         </td><td>8.31446                                                   </td><td>1                                                         </td><td>1000                                                      </td><td>1000                                                      </td><td>4.316087e-01                                              </td><td>../data/MoBlue_timeseries/2984852926208443222znpK5qSw.csv </td></tr>\n",
       "\t<tr><td>300                                                       </td><td>1                                                         </td><td>0.01                                                      </td><td>1                                                         </td><td>8.31446                                                   </td><td>1                                                         </td><td>1000                                                      </td><td>1000                                                      </td><td>8.709615e-05                                              </td><td>../data/MoBlue_timeseries/7133786595328778415pLmV2637.csv </td></tr>\n",
       "</tbody>\n",
       "</table>\n"
      ],
      "text/latex": [
       "\\begin{tabular}{r|llllllllll}\n",
       " T & volume & k\\_f & stable\\_backward & R & mo36\\_enhance & wheel\\_enhancement\\_multiplier & ball\\_enhance & dimerization\\_ratio & save\\_name\\\\\n",
       "\\hline\n",
       "\t 300                                                          & 1                                                            & 0.01                                                         & 1                                                            & 8.31446                                                      & 1                                                            & 1000                                                         & 1000                                                         & 4.329881e+00                                                 & ../data/MoBlue\\_timeseries/16880651504391989741Ar42Rpl6.csv\\\\\n",
       "\t 300                                                          & 1                                                            & 0.01                                                         & 1                                                            & 8.31446                                                      & 1                                                            & 1000                                                         & 1000                                                         & 5.847465e+00                                                 & ../data/MoBlue\\_timeseries/2967497634502052968P7md8osu.csv \\\\\n",
       "\t 300                                                          & 1                                                            & 0.01                                                         & 1                                                            & 8.31446                                                      & 1                                                            & 1000                                                         & 1000                                                         & 3.704234e-01                                                 & ../data/MoBlue\\_timeseries/18387456924582107222fp88bEDb.csv\\\\\n",
       "\t 300                                                          & 1                                                            & 0.01                                                         & 1                                                            & 8.31446                                                      & 1                                                            & 1000                                                         & 1000                                                         & 3.778325e-01                                                 & ../data/MoBlue\\_timeseries/17804707699707572981DAjXPTH5.csv\\\\\n",
       "\t 300                                                          & 1                                                            & 0.01                                                         & 1                                                            & 8.31446                                                      & 1                                                            & 1000                                                         & 1000                                                         & 4.316087e-01                                                 & ../data/MoBlue\\_timeseries/2984852926208443222znpK5qSw.csv \\\\\n",
       "\t 300                                                          & 1                                                            & 0.01                                                         & 1                                                            & 8.31446                                                      & 1                                                            & 1000                                                         & 1000                                                         & 8.709615e-05                                                 & ../data/MoBlue\\_timeseries/7133786595328778415pLmV2637.csv \\\\\n",
       "\\end{tabular}\n"
      ],
      "text/markdown": [
       "\n",
       "T | volume | k_f | stable_backward | R | mo36_enhance | wheel_enhancement_multiplier | ball_enhance | dimerization_ratio | save_name | \n",
       "|---|---|---|---|---|---|\n",
       "| 300                                                        | 1                                                          | 0.01                                                       | 1                                                          | 8.31446                                                    | 1                                                          | 1000                                                       | 1000                                                       | 4.329881e+00                                               | ../data/MoBlue_timeseries/16880651504391989741Ar42Rpl6.csv | \n",
       "| 300                                                        | 1                                                          | 0.01                                                       | 1                                                          | 8.31446                                                    | 1                                                          | 1000                                                       | 1000                                                       | 5.847465e+00                                               | ../data/MoBlue_timeseries/2967497634502052968P7md8osu.csv  | \n",
       "| 300                                                        | 1                                                          | 0.01                                                       | 1                                                          | 8.31446                                                    | 1                                                          | 1000                                                       | 1000                                                       | 3.704234e-01                                               | ../data/MoBlue_timeseries/18387456924582107222fp88bEDb.csv | \n",
       "| 300                                                        | 1                                                          | 0.01                                                       | 1                                                          | 8.31446                                                    | 1                                                          | 1000                                                       | 1000                                                       | 3.778325e-01                                               | ../data/MoBlue_timeseries/17804707699707572981DAjXPTH5.csv | \n",
       "| 300                                                        | 1                                                          | 0.01                                                       | 1                                                          | 8.31446                                                    | 1                                                          | 1000                                                       | 1000                                                       | 4.316087e-01                                               | ../data/MoBlue_timeseries/2984852926208443222znpK5qSw.csv  | \n",
       "| 300                                                        | 1                                                          | 0.01                                                       | 1                                                          | 8.31446                                                    | 1                                                          | 1000                                                       | 1000                                                       | 8.709615e-05                                               | ../data/MoBlue_timeseries/7133786595328778415pLmV2637.csv  | \n",
       "\n",
       "\n"
      ],
      "text/plain": [
       "  T   volume k_f  stable_backward R       mo36_enhance\n",
       "1 300 1      0.01 1               8.31446 1           \n",
       "2 300 1      0.01 1               8.31446 1           \n",
       "3 300 1      0.01 1               8.31446 1           \n",
       "4 300 1      0.01 1               8.31446 1           \n",
       "5 300 1      0.01 1               8.31446 1           \n",
       "6 300 1      0.01 1               8.31446 1           \n",
       "  wheel_enhancement_multiplier ball_enhance dimerization_ratio\n",
       "1 1000                         1000         4.329881e+00      \n",
       "2 1000                         1000         5.847465e+00      \n",
       "3 1000                         1000         3.704234e-01      \n",
       "4 1000                         1000         3.778325e-01      \n",
       "5 1000                         1000         4.316087e-01      \n",
       "6 1000                         1000         8.709615e-05      \n",
       "  save_name                                                 \n",
       "1 ../data/MoBlue_timeseries/16880651504391989741Ar42Rpl6.csv\n",
       "2 ../data/MoBlue_timeseries/2967497634502052968P7md8osu.csv \n",
       "3 ../data/MoBlue_timeseries/18387456924582107222fp88bEDb.csv\n",
       "4 ../data/MoBlue_timeseries/17804707699707572981DAjXPTH5.csv\n",
       "5 ../data/MoBlue_timeseries/2984852926208443222znpK5qSw.csv \n",
       "6 ../data/MoBlue_timeseries/7133786595328778415pLmV2637.csv "
      ]
     },
     "metadata": {},
     "output_type": "display_data"
    }
   ],
   "source": [
    "sub_df <- params_df[1:10,]\n",
    "head(sub_df)\n",
    "\n"
   ]
  },
  {
   "cell_type": "code",
   "execution_count": 82,
   "metadata": {},
   "outputs": [
    {
     "data": {
      "text/html": [],
      "text/latex": [],
      "text/markdown": [],
      "text/plain": [
       "numeric(0)"
      ]
     },
     "metadata": {},
     "output_type": "display_data"
    }
   ],
   "source": [
    "trial_out"
   ]
  },
  {
   "cell_type": "code",
   "execution_count": 19,
   "metadata": {},
   "outputs": [
    {
     "name": "stdout",
     "output_type": "stream",
     "text": [
      "No traceback available \n"
     ]
    }
   ],
   "source": []
  },
  {
   "cell_type": "code",
   "execution_count": 108,
   "metadata": {},
   "outputs": [],
   "source": [
    "vec_ball <- Vectorize(get_ball_frac, SIMPLIFY=TRUE)\n",
    "vec_wheel <- Vectorize(get_wheel_frac, SIMPLIFY=TRUE)"
   ]
  },
  {
   "cell_type": "code",
   "execution_count": 109,
   "metadata": {},
   "outputs": [],
   "source": [
    "ball <- vec_ball(params_df$save_name)\n",
    "wheel <- vec_wheel(params_df$save_name)"
   ]
  },
  {
   "cell_type": "code",
   "execution_count": 111,
   "metadata": {},
   "outputs": [
    {
     "data": {
      "image/png": "[encoded data removed]",
      "text/plain": [
       "Plot with title \"Histogram of ball\""
      ]
     },
     "metadata": {},
     "output_type": "display_data"
    }
   ],
   "source": [
    "ball <- unlist(ball)\n",
    "hist(ball)"
   ]
  },
  {
   "cell_type": "code",
   "execution_count": 112,
   "metadata": {},
   "outputs": [],
   "source": [
    "params_df$wheel <- wheel\n",
    "params_df$ball <- ball"
   ]
  },
  {
   "cell_type": "code",
   "execution_count": 119,
   "metadata": {},
   "outputs": [],
   "source": [
    "p <- ggplot(params_df) + geom_point(aes(x = dimerization_ratio, y = ball), color= 'blue') + scale_x_log10() + geom_point(aes(x = dimerization_ratio, y = wheel), color = \"red\")"
   ]
  },
  {
   "cell_type": "code",
   "execution_count": 120,
   "metadata": {},
   "outputs": [
    {
     "data": {},
     "metadata": {},
     "output_type": "display_data"
    },
    {
     "data": {
      "image/png": "[encoded data removed]",
      "text/plain": [
       "plot without title"
      ]
     },
     "metadata": {},
     "output_type": "display_data"
    }
   ],
   "source": [
    "p"
   ]
  },
  {
   "cell_type": "code",
   "execution_count": null,
   "metadata": {},
   "outputs": [],
   "source": []
  }
 ],
 "metadata": {
  "kernelspec": {
   "display_name": "R",
   "language": "R",
   "name": "ir"
  },
  "language_info": {
   "codemirror_mode": "r",
   "file_extension": ".r",
   "mimetype": "text/x-r-source",
   "name": "R",
   "pygments_lexer": "r",
   "version": "3.5.1"
  }
 },
 "nbformat": 4,
 "nbformat_minor": 2
}
